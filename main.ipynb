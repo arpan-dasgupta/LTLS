{
 "cells": [
  {
   "cell_type": "markdown",
   "metadata": {},
   "source": [
    "# LTLS"
   ]
  },
  {
   "cell_type": "code",
   "execution_count": 1,
   "metadata": {
    "tags": []
   },
   "outputs": [
    {
     "output_type": "stream",
     "name": "stdout",
     "text": "Training dataset is created\n[446, 521, 1149, 1249, 1265, 1482]\n[446, 521, 1149, 1249, 1265, 1482]\n"
    }
   ],
   "source": [
    "from load_train_dot import get_train_data\n",
    "\n",
    "train_specs, x_train, y_train = get_train_data()"
   ]
  },
  {
   "cell_type": "code",
   "execution_count": 15,
   "metadata": {},
   "outputs": [],
   "source": [
    "from graph import *\n",
    "from model import *\n",
    "from labels import *\n",
    "from config import "
   ]
  },
  {
   "cell_type": "markdown",
   "metadata": {},
   "source": [
    "Iterate through each example"
   ]
  },
  {
   "cell_type": "code",
   "execution_count": 6,
   "metadata": {
    "tags": []
   },
   "outputs": [
    {
     "output_type": "stream",
     "name": "stdout",
     "text": "(0, 446)\t1.0\n  (0, 521)\t1.0\n  (0, 1149)\t1.0\n  (0, 1249)\t1.0\n  (0, 1265)\t1.0\n  (0, 1482)\t1.0\n"
    }
   ],
   "source": [
    "graph_params = create_graph(train_specs)\n",
    "assign_edges(graph_params,train_specs)\n",
    "create_matrix(len(graph_params['edges']),train_specs['num_labels'])\n",
    "for i in range(train_specs['num_features']):\n",
    "    x_row = x_train[i]\n",
    "    y_row = y_train[i]\n",
    "    num_positive = len(y_row)\n",
    "    while True:    \n",
    "        model = graph_params[\"model\"]\n",
    "        weights = model.get_predictions(x_single_row)\n",
    "        paths = get_top_k(graph_params,num_positive+1,x_row,weights)\n",
    "        pos = get_smallest_positive_path(paths,y_row,label_params)\n",
    "        neg = get_largest_negative_path(paths,y_row,label_params)\n",
    "        trig = update_values(pos,neg,weights)\n",
    "        if trig==1:\n",
    "            break\n",
    "        model.update(x_single_row,weights)\n"
   ]
  },
  {
   "cell_type": "code",
   "execution_count": null,
   "metadata": {},
   "outputs": [],
   "source": []
  }
 ],
 "metadata": {
  "language_info": {
   "codemirror_mode": {
    "name": "ipython",
    "version": 3
   },
   "file_extension": ".py",
   "mimetype": "text/x-python",
   "name": "python",
   "nbconvert_exporter": "python",
   "pygments_lexer": "ipython3",
   "version": "3.6.9-final"
  },
  "orig_nbformat": 2,
  "kernelspec": {
   "name": "python36964bitvenvvenvb67a68f54aba486eaa43d1800e07dc49",
   "display_name": "Python 3.6.9 64-bit ('venv': venv)"
  }
 },
 "nbformat": 4,
 "nbformat_minor": 2
}