{
 "cells": [
  {
   "cell_type": "markdown",
   "metadata": {},
   "source": [
    "# LTLS"
   ]
  },
  {
   "cell_type": "code",
   "execution_count": 1,
   "metadata": {
    "tags": []
   },
   "outputs": [
    {
     "output_type": "stream",
     "name": "stdout",
     "text": "Training dataset is created\n"
    }
   ],
   "source": [
    "from load_train_dot import get_train_data\n",
    "\n",
    "train_specs, x_train, y_train = get_train_data()"
   ]
  },
  {
   "cell_type": "code",
   "execution_count": 2,
   "metadata": {},
   "outputs": [],
   "source": [
    "from graph import *\n",
    "from model import *\n",
    "from labels import *\n",
    "from config import *"
   ]
  },
  {
   "cell_type": "markdown",
   "metadata": {},
   "source": [
    "Iterate through each example"
   ]
  },
  {
   "cell_type": "code",
   "execution_count": 3,
   "metadata": {
    "tags": []
   },
   "outputs": [
    {
     "output_type": "stream",
     "name": "stdout",
     "text": "0\n1\n2\n4\n3\n6\n5\n8\n7\n10\n9\n12\n11\n14\n13\n16\n15\n18\n17\n20\n19\n22\n21\n23\n24\n[9.753780491675268, [23, 0]]\n[9.424121257125751, [23, 1]]\n[9.316618946268884, [23, 2]]\n[9.27740507302461, [23, 3]]\n[9.183710286693692, [23, 4]]\n[9.145193713412215, [23, 5]]\n[9.117189975598993, [23, 6]]\n[[51, 48, 44, 42, 36, 29, 26, 21, 19, 11, 8, 3, 0], [51, 48, 44, 39, 37, 29, 26, 21, 19, 11, 8, 3, 0], [51, 48, 44, 42, 36, 29, 26, 21, 19, 11, 10, 2, 0], [51, 48, 44, 42, 36, 29, 26, 21, 19, 11, 8, 6, 1], [51, 48, 44, 42, 36, 29, 26, 21, 16, 12, 8, 3, 0], [51, 48, 44, 42, 36, 31, 25, 21, 19, 11, 8, 3, 0], [51, 48, 44, 42, 36, 31, 27, 23, 18, 11, 8, 3, 0]]\n"
    }
   ],
   "source": [
    "graph_params = create_graph(train_specs)\n",
    "model = assign_edges(graph_params,train_specs)\n",
    "# label+params = create_matrix(len(graph_params['edges']),train_specs['num_labels'])\n",
    "for i in range(train_specs['num_features']):\n",
    "    x_row = x_train[i]\n",
    "    y_row = y_train[i]\n",
    "    num_positive = len(y_row)\n",
    "    while True:\n",
    "        weights = model.get_predictions(x_row)\n",
    "        # print(weights)\n",
    "        paths = get_top_k(graph_params,num_positive+1,weights)\n",
    "        print(paths)\n",
    "        # pos = get_smallest_positive_path(paths,y_row,label_params)\n",
    "        # neg = get_largest_negative_path(paths,y_row,label_params)\n",
    "        break\n",
    "        # trig = update_values(pos,neg,weights)\n",
    "        # if trig==1:\n",
    "        #     break\n",
    "        # model.update(x_single_row,weights)\n",
    "    break\n"
   ]
  },
  {
   "cell_type": "code",
   "execution_count": 7,
   "metadata": {
    "tags": []
   },
   "outputs": [
    {
     "output_type": "stream",
     "name": "stdout",
     "text": "[0.00440938 0.00722732 0.00491771 ... 0.         0.         0.        ]\n"
    }
   ],
   "source": [
    "x_row = x_train[0]\n",
    "x_new = x_row[0].toarray()\n",
    "print(x_new[0])\n"
   ]
  },
  {
   "cell_type": "code",
   "execution_count": 4,
   "metadata": {},
   "outputs": [
    {
     "output_type": "execute_result",
     "data": {
      "text/plain": "52"
     },
     "metadata": {},
     "execution_count": 4
    }
   ],
   "source": [
    "len(graph_params['edges'])"
   ]
  },
  {
   "cell_type": "code",
   "execution_count": null,
   "metadata": {},
   "outputs": [],
   "source": []
  }
 ],
 "metadata": {
  "language_info": {
   "codemirror_mode": {
    "name": "ipython",
    "version": 3
   },
   "file_extension": ".py",
   "mimetype": "text/x-python",
   "name": "python",
   "nbconvert_exporter": "python",
   "pygments_lexer": "ipython3",
   "version": "3.6.9-final"
  },
  "orig_nbformat": 2,
  "kernelspec": {
   "name": "python36964bitvenvvenvb67a68f54aba486eaa43d1800e07dc49",
   "display_name": "Python 3.6.9 64-bit ('venv': venv)"
  }
 },
 "nbformat": 4,
 "nbformat_minor": 2
}