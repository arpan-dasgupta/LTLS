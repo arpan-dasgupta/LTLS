{
 "cells": [
  {
   "cell_type": "markdown",
   "metadata": {},
   "source": [
    "# LTLS"
   ]
  },
  {
   "cell_type": "code",
   "execution_count": 1,
   "metadata": {
    "tags": []
   },
   "outputs": [
    {
     "output_type": "stream",
     "name": "stdout",
     "text": "Training dataset is created\n"
    }
   ],
   "source": [
    "from load_train_dot import get_train_data\n",
    "\n",
    "train_specs, x_train, y_train = get_train_data()"
   ]
  },
  {
   "cell_type": "code",
   "execution_count": 2,
   "metadata": {},
   "outputs": [],
   "source": [
    "from graph import *\n",
    "from model import *\n",
    "from labels import *\n",
    "from config import *"
   ]
  },
  {
   "cell_type": "markdown",
   "metadata": {},
   "source": [
    "Iterate through each example"
   ]
  },
  {
   "cell_type": "code",
   "execution_count": 3,
   "metadata": {
    "tags": []
   },
   "outputs": [
    {
     "output_type": "stream",
     "name": "stdout",
     "text": "[-505105.03812836495, [1, 0]]\n[-1262762.5953209123, [7, 0]]\n[-1262762.5953209123, [7, 1]]\n[-1262762.5953209123, [7, 2]]\n[-1262762.5953209123, [7, 3]]\n[-1262762.5953209123, [7, 4]]\n[-1262762.5953209123, [7, 5]]\n-3283182.747834372 -505105.03812836495\n"
    }
   ],
   "source": [
    "graph_params = create_graph(train_specs)\n",
    "model = assign_edges(graph_params,train_specs)\n",
    "# print(graph_params)\n",
    "# print(train_specs)\n",
    "label_params = create_matrix(train_specs['num_labels'],graph_params)\n",
    "for i in range(train_specs['num_features']):\n",
    "    x_row = x_train[i]\n",
    "    y_row = y_train[i]\n",
    "    num_positive = len(y_row)\n",
    "    while True:\n",
    "        weights = model.get_predictions(x_row)\n",
    "        # print(weights)\n",
    "        paths = get_top_k(graph_params,num_positive+1,weights)\n",
    "        # print(paths)\n",
    "        vp ,pos = get_smallest_positive_path(y_row,label_params,weights)\n",
    "        vn, neg = get_largest_negative_path(y_row,paths,label_params,weights)\n",
    "        # print(pos)\n",
    "        # print(pos,neg)\n",
    "        trig = update_values(pos,neg,weights)\n",
    "        if vp >= vn + ADD_VALUE:\n",
    "            break\n",
    "        model.update(x_row,weights)\n",
    "        print(vp,vn)\n",
    "        break\n",
    "    break\n"
   ]
  },
  {
   "cell_type": "code",
   "execution_count": 4,
   "metadata": {
    "tags": []
   },
   "outputs": [
    {
     "output_type": "stream",
     "name": "stdout",
     "text": "[0. 0. 0. ... 0. 0. 0.]\n"
    }
   ],
   "source": [
    "x_row = x_train[0]\n",
    "x_new = x_row[0].toarray()\n",
    "print(x_new[0])\n"
   ]
  },
  {
   "cell_type": "code",
   "execution_count": 5,
   "metadata": {},
   "outputs": [
    {
     "output_type": "execute_result",
     "data": {
      "text/plain": "52"
     },
     "metadata": {},
     "execution_count": 5
    }
   ],
   "source": [
    "len(graph_params['edges'])"
   ]
  },
  {
   "cell_type": "code",
   "execution_count": null,
   "metadata": {},
   "outputs": [],
   "source": []
  }
 ],
 "metadata": {
  "language_info": {
   "codemirror_mode": {
    "name": "ipython",
    "version": 3
   },
   "file_extension": ".py",
   "mimetype": "text/x-python",
   "name": "python",
   "nbconvert_exporter": "python",
   "pygments_lexer": "ipython3",
   "version": "3.6.9-final"
  },
  "orig_nbformat": 2,
  "kernelspec": {
   "name": "python36964bitvenvvenvb67a68f54aba486eaa43d1800e07dc49",
   "display_name": "Python 3.6.9 64-bit ('venv': venv)"
  }
 },
 "nbformat": 4,
 "nbformat_minor": 2
}