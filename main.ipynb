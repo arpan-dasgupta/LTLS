{
 "cells": [
  {
   "cell_type": "markdown",
   "metadata": {},
   "source": [
    "# LTLS"
   ]
  },
  {
   "cell_type": "code",
   "execution_count": 2,
   "metadata": {
    "tags": []
   },
   "outputs": [
    {
     "output_type": "stream",
     "name": "stdout",
     "text": "Training dataset is created\n"
    }
   ],
   "source": [
    "from load_train_dot import get_train_data\n",
    "\n",
    "train_specs, x_train, y_train = get_train_data()"
   ]
  },
  {
   "cell_type": "code",
   "execution_count": 3,
   "metadata": {},
   "outputs": [],
   "source": [
    "from graph import *\n",
    "from model import *\n",
    "from labels import *\n",
    "from config import *"
   ]
  },
  {
   "cell_type": "markdown",
   "metadata": {},
   "source": [
    "Iterate through each example"
   ]
  },
  {
   "cell_type": "code",
   "execution_count": 5,
   "metadata": {
    "tags": []
   },
   "outputs": [
    {
     "output_type": "stream",
     "name": "stdout",
     "text": "24\n0 : 1 2 \n1 : 4 3 24 \n2 : 4 3 \n3 : 6 5 \n4 : 6 5 \n5 : 8 7 \n6 : 8 7 \n7 : 10 9 24 \n8 : 10 9 \n9 : 12 11 24 \n10 : 12 11 \n11 : 14 13 \n12 : 14 13 \n13 : 16 15 \n14 : 16 15 \n15 : 18 17 24 \n16 : 18 17 \n17 : 20 19 24 \n18 : 20 19 \n19 : 22 21 24 \n20 : 22 21 \n21 : 23 24 \n22 : 23 \n23 : 24 \n24 : \n0\n1\n2\n4\n3\n6\n5\n8\n7\n10\n9\n12\n11\n14\n13\n16\n15\n18\n17\n20\n19\n22\n21\n23\n24\n[7.758578928025689, [23, 0]]\n[7.720097705089875, [23, 1]]\n[7.527636719897285, [23, 2]]\n[7.489155496961471, [23, 3]]\n[7.469660257404862, [23, 4]]\n[7.4362288146796764, [23, 5]]\n[7.431179034469048, [23, 6]]\n[[51, 48, 47, 38, 37, 31, 27, 20, 16, 14, 7, 3], [51, 48, 47, 38, 37, 31, 25, 21, 16, 14, 7, 3], [51, 48, 44, 42, 36, 31, 27, 20, 16, 14, 7, 3], [51, 48, 44, 42, 36, 31, 25, 21, 16, 14, 7, 3], [51, 48, 44, 39, 37, 31, 27, 20, 16, 14, 7, 3], [51, 48, 44, 42, 33, 30, 26, 21, 16, 14, 7, 3], [51, 48, 44, 39, 37, 31, 25, 21, 16, 14, 7, 3]]\n"
    }
   ],
   "source": [
    "graph_params = create_graph(train_specs)\n",
    "model = assign_edges(graph_params,train_specs)\n",
    "# label+params = create_matrix(len(graph_params['edges']),train_specs['num_labels'])\n",
    "for i in range(train_specs['num_features']):\n",
    "    x_row = x_train[i]\n",
    "    y_row = y_train[i]\n",
    "    num_positive = len(y_row)\n",
    "    while True:\n",
    "        weights = model.get_predictions(x_row)\n",
    "        # print(weights)\n",
    "        paths = get_top_k(graph_params,num_positive+1,x_row,weights)\n",
    "        # print(paths)\n",
    "        # pos = get_smallest_positive_path(paths,y_row,label_params)\n",
    "        # neg = get_largest_negative_path(paths,y_row,label_params)\n",
    "        break\n",
    "        # trig = update_values(pos,neg,weights)\n",
    "        # if trig==1:\n",
    "        #     break\n",
    "        # model.update(x_single_row,weights)\n",
    "    break\n"
   ]
  },
  {
   "cell_type": "code",
   "execution_count": 7,
   "metadata": {
    "tags": []
   },
   "outputs": [
    {
     "output_type": "stream",
     "name": "stdout",
     "text": "[0.00440938 0.00722732 0.00491771 ... 0.         0.         0.        ]\n"
    }
   ],
   "source": [
    "x_row = x_train[0]\n",
    "x_new = x_row[0].toarray()\n",
    "print(x_new[0])\n"
   ]
  },
  {
   "cell_type": "code",
   "execution_count": 4,
   "metadata": {},
   "outputs": [
    {
     "output_type": "execute_result",
     "data": {
      "text/plain": "52"
     },
     "metadata": {},
     "execution_count": 4
    }
   ],
   "source": [
    "len(graph_params['edges'])"
   ]
  },
  {
   "cell_type": "code",
   "execution_count": null,
   "metadata": {},
   "outputs": [],
   "source": []
  }
 ],
 "metadata": {
  "language_info": {
   "codemirror_mode": {
    "name": "ipython",
    "version": 3
   },
   "file_extension": ".py",
   "mimetype": "text/x-python",
   "name": "python",
   "nbconvert_exporter": "python",
   "pygments_lexer": "ipython3",
   "version": "3.6.9-final"
  },
  "orig_nbformat": 2,
  "kernelspec": {
   "name": "python36964bitvenvvenvb67a68f54aba486eaa43d1800e07dc49",
   "display_name": "Python 3.6.9 64-bit ('venv': venv)"
  }
 },
 "nbformat": 4,
 "nbformat_minor": 2
}