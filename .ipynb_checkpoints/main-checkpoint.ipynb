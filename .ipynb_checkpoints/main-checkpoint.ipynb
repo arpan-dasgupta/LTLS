{
 "cells": [
  {
   "cell_type": "markdown",
   "metadata": {},
   "source": [
    "# LTLS"
   ]
  },
  {
   "cell_type": "code",
   "execution_count": 1,
   "metadata": {
    "tags": []
   },
   "outputs": [
    {
     "name": "stdout",
     "output_type": "stream",
     "text": [
      "Training dataset is created\n"
     ]
    }
   ],
   "source": [
    "from load_train_dot import get_train_data\n",
    "\n",
    "train_specs, x_train, y_train = get_train_data()"
   ]
  },
  {
   "cell_type": "code",
   "execution_count": 2,
   "metadata": {},
   "outputs": [],
   "source": [
    "from graph import *\n",
    "from model import *\n",
    "from labels import *\n",
    "from config import *"
   ]
  },
  {
   "cell_type": "markdown",
   "metadata": {},
   "source": [
    "Iterate through each example"
   ]
  },
  {
   "cell_type": "code",
   "execution_count": 6,
   "metadata": {
    "tags": []
   },
   "outputs": [
    {
     "name": "stdout",
     "output_type": "stream",
     "text": [
      "{'train_length': 15539, 'num_features': 5000, 'num_labels': 3993}\n"
     ]
    },
    {
     "ename": "TypeError",
     "evalue": "'tuple' object is not callable",
     "output_type": "error",
     "traceback": [
      "\u001b[1;31m---------------------------------------------------------------------------\u001b[0m",
      "\u001b[1;31mTypeError\u001b[0m                                 Traceback (most recent call last)",
      "\u001b[1;32m<ipython-input-6-cca8a1cdadfd>\u001b[0m in \u001b[0;36m<module>\u001b[1;34m\u001b[0m\n\u001b[0;32m      6\u001b[0m \u001b[1;31m# print(model)\u001b[0m\u001b[1;33m\u001b[0m\u001b[1;33m\u001b[0m\u001b[1;33m\u001b[0m\u001b[0m\n\u001b[0;32m      7\u001b[0m \u001b[0mlabel_params\u001b[0m \u001b[1;33m=\u001b[0m \u001b[0mcreate_matrix\u001b[0m\u001b[1;33m(\u001b[0m\u001b[0mtrain_specs\u001b[0m\u001b[1;33m[\u001b[0m\u001b[1;34m'num_labels'\u001b[0m\u001b[1;33m]\u001b[0m\u001b[1;33m,\u001b[0m \u001b[0mgraph_params\u001b[0m\u001b[1;33m)\u001b[0m\u001b[1;33m\u001b[0m\u001b[1;33m\u001b[0m\u001b[0m\n\u001b[1;32m----> 8\u001b[1;33m \u001b[0mprint\u001b[0m\u001b[1;33m(\u001b[0m\u001b[0mlabel_params\u001b[0m\u001b[1;33m[\u001b[0m\u001b[1;34m'matrix'\u001b[0m\u001b[1;33m]\u001b[0m\u001b[1;33m.\u001b[0m\u001b[0mshape\u001b[0m\u001b[1;33m(\u001b[0m\u001b[1;33m)\u001b[0m\u001b[1;33m)\u001b[0m\u001b[1;33m\u001b[0m\u001b[1;33m\u001b[0m\u001b[0m\n\u001b[0m\u001b[0;32m      9\u001b[0m \u001b[1;31m# mat = create_matrix(10, graph_params)\u001b[0m\u001b[1;33m\u001b[0m\u001b[1;33m\u001b[0m\u001b[1;33m\u001b[0m\u001b[0m\n\u001b[0;32m     10\u001b[0m \u001b[1;32mfor\u001b[0m \u001b[0mi\u001b[0m \u001b[1;32min\u001b[0m \u001b[0mrange\u001b[0m\u001b[1;33m(\u001b[0m\u001b[0mtrain_specs\u001b[0m\u001b[1;33m[\u001b[0m\u001b[1;34m'num_features'\u001b[0m\u001b[1;33m]\u001b[0m\u001b[1;33m)\u001b[0m\u001b[1;33m:\u001b[0m\u001b[1;33m\u001b[0m\u001b[1;33m\u001b[0m\u001b[0m\n",
      "\u001b[1;31mTypeError\u001b[0m: 'tuple' object is not callable"
     ]
    }
   ],
   "source": [
    "graph_params = create_graph(train_specs)\n",
    "model = assign_edges(graph_params, train_specs)\n",
    "# print(graph_params)\n",
    "print(train_specs)\n",
    "# print(create_matrix(train_specs['num_labels'], graph_params))\n",
    "# print(model)\n",
    "label_params = create_matrix(train_specs['num_labels'], graph_params)\n",
    "print(len(label_params['matrix']))\n",
    "# mat = create_matrix(10, graph_params)\n",
    "for i in range(train_specs['num_features']):\n",
    "    x_row = x_train[i]\n",
    "    y_row = y_train[i]\n",
    "    num_positive = len(y_row)\n",
    "#     while True:\n",
    "    weights = model.get_predictions(x_row)\n",
    "        # print(weights)\n",
    "    paths = get_top_k(graph_params, num_positive+1, x_row, weights)\n",
    "    pos = get_smallest_positive_path(paths, y_row, label_params)\n",
    "        # neg = get_largest_negative_path(paths,y_row,label_params)\n",
    "#         break\n",
    "        # trig = update_values(pos,neg,weights)\n",
    "        # if trig==1:\n",
    "        #     break\n",
    "        # model.update(x_single_row,weights)\n",
    "    break\n"
   ]
  },
  {
   "cell_type": "code",
   "execution_count": 7,
   "metadata": {
    "tags": []
   },
   "outputs": [
    {
     "name": "stdout",
     "output_type": "stream",
     "text": [
      "[0.00440938 0.00722732 0.00491771 ... 0.         0.         0.        ]\n"
     ]
    }
   ],
   "source": [
    "x_row = x_train[0]\n",
    "x_new = x_row[0].toarray()\n",
    "print(x_new[0])\n"
   ]
  },
  {
   "cell_type": "code",
   "execution_count": 4,
   "metadata": {},
   "outputs": [
    {
     "data": {
      "text/plain": [
       "52"
      ]
     },
     "execution_count": 4,
     "metadata": {},
     "output_type": "execute_result"
    }
   ],
   "source": [
    "len(graph_params['edges'])"
   ]
  },
  {
   "cell_type": "code",
   "execution_count": null,
   "metadata": {},
   "outputs": [],
   "source": []
  }
 ],
 "metadata": {
  "kernelspec": {
   "display_name": "TensorFlow-GPU",
   "language": "python",
   "name": "tf-gpu"
  },
  "language_info": {
   "codemirror_mode": {
    "name": "ipython",
    "version": 3
   },
   "file_extension": ".py",
   "mimetype": "text/x-python",
   "name": "python",
   "nbconvert_exporter": "python",
   "pygments_lexer": "ipython3",
   "version": "3.7.3"
  }
 },
 "nbformat": 4,
 "nbformat_minor": 2
}
